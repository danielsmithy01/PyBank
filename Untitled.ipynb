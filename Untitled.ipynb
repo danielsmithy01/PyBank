{
 "cells": [
  {
   "cell_type": "code",
   "execution_count": 1,
   "id": "acd6692f-10d9-4111-8fe7-6f35fdefa512",
   "metadata": {},
   "outputs": [],
   "source": [
    "from pathlib import Path\n",
    "import csv"
   ]
  },
  {
   "cell_type": "code",
   "execution_count": 2,
   "id": "4f3e6b53-6328-4475-991e-c2be6c9af3f4",
   "metadata": {},
   "outputs": [],
   "source": [
    "totalMonths = 0 # Variable to hold value of total no. of months\n",
    "totalAmount = 0 # Variable to hold value of total amount of profit/loss\n",
    "average = 0 # Variable to average of profit/loss\n",
    "count = 0 # Variable for loop iterator \n",
    "changeAggregator = 0 # Variable to hold value of sum of changes between each month\n",
    "maxProfit = 0 # Variable to hold value of maximum profit in a month\n",
    "maxLoss = 0  # Variable to hold value of maximum loss in a month\n",
    "maxProfitMonth = '' # Variable to hold value for month with maximum profit\n",
    "maxLossMonth = '' # Variable to hold value for month with maximum loss\n",
    "changeList = [] # List to hold differences of each month"
   ]
  },
  {
   "cell_type": "code",
   "execution_count": 3,
   "id": "f64a5dd7-68d9-4f5c-a873-d016ab2ae7ea",
   "metadata": {},
   "outputs": [],
   "source": [
    "# Set filepath for Input file\n",
    "filePath = './Resources/budget_data.csv'"
   ]
  },
  {
   "cell_type": "code",
   "execution_count": 4,
   "id": "d9488069-3387-4a97-8631-641919215177",
   "metadata": {},
   "outputs": [],
   "source": [
    "# Open input file using filePath to read csv file\n",
    "with open(filePath, 'r') as file:\n",
    "\n",
    "    # Pass in csv file to csv.reader() function\n",
    "    csvReader = csv.reader(file, delimiter=',')\n",
    "    csv_header = next(csvReader) # Go to next row since first row is header\n",
    "\n",
    "    # Read each row of data one by one\n",
    "    for row in csvReader:\n",
    "        \n",
    "        totalMonths = totalMonths + 1\n",
    "        totalAmount = totalAmount + int(row[1])\n",
    "        if count == 0:           \n",
    "            count = count + 1\n",
    "        else:\n",
    "            # Append difference b/w 2 months to a list\n",
    "            changeList.append(int(row[1]) - int(prevReading))\n",
    "            # If difference is greater than  maxProfit, set maxProfit to this value. Also set the maxProfitMonth as the month of this value\n",
    "            if changeList[count-1] > maxProfit:\n",
    "                maxProfit = changeList[count-1]\n",
    "                maxProfitMonth = row[0]\n",
    "            # Else if difference is less than  maxLoss, set maxLoss to this value. Also set the maxLossMonth as the month of this value\n",
    "            elif changeList[count-1] < maxLoss:\n",
    "                maxLoss = changeList[count-1]\n",
    "                maxLossMonth = row[0]\n",
    "            count = count + 1\n",
    "\n",
    "        prevReading = row[1]\n",
    "\n",
    "# Loop through change list and sum all the values            \n",
    "for record in changeList:\n",
    "    changeAggregator = changeAggregator + record\n",
    "\n",
    "# Calculate total average\n",
    "average = totalAmount/totalMonths\n",
    "\n",
    "# Calculate average change \n",
    "averageChange = changeAggregator/len(changeList)\n",
    "averageChange = round(averageChange, 2) # Round average change to 2 decimal value"
   ]
  },
  {
   "cell_type": "code",
   "execution_count": 5,
   "id": "cfdcbc23-7067-4bb0-93ae-9e391bf9c555",
   "metadata": {},
   "outputs": [
    {
     "name": "stdout",
     "output_type": "stream",
     "text": [
      "Financial Analysis\n",
      "----------------------------\n",
      "Total Months: 86\n",
      "Total: $38382578\n",
      "Average  Change: $-2315.12\n",
      "Greatest Increase in Profits: Feb-2012 ($1926159)\n",
      "Greatest Decrease in Profits: Sep-2013 ($-2196167)\n"
     ]
    }
   ],
   "source": [
    "contents = f'Financial Analysis\\n----------------------------\\nTotal Months: {totalMonths}\\nTotal: ${totalAmount}\\nAverage  Change: ${averageChange}\\nGreatest Increase in Profits: {maxProfitMonth} (${maxProfit})\\nGreatest Decrease in Profits: {maxLossMonth} (${maxLoss})'\n",
    "print(contents)"
   ]
  },
  {
   "cell_type": "code",
   "execution_count": 6,
   "id": "5d77ecb1-d743-40d0-83ac-49ae85345130",
   "metadata": {},
   "outputs": [],
   "source": [
    "# Set filepath for Output file\n",
    "filePath = './Resources/result.txt'\n",
    "\n",
    "# Open output file using filePath to write\n",
    "with open(filePath, 'w') as file:\n",
    "    file.write(contents)\n"
   ]
  }
 ],
 "metadata": {
  "kernelspec": {
   "display_name": "Python 3 (ipykernel)",
   "language": "python",
   "name": "python3"
  },
  "language_info": {
   "codemirror_mode": {
    "name": "ipython",
    "version": 3
   },
   "file_extension": ".py",
   "mimetype": "text/x-python",
   "name": "python",
   "nbconvert_exporter": "python",
   "pygments_lexer": "ipython3",
   "version": "3.7.11"
  }
 },
 "nbformat": 4,
 "nbformat_minor": 5
}
